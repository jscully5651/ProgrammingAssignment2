{
  "nbformat": 4,
  "nbformat_minor": 0,
  "metadata": {
    "colab": {
      "provenance": [],
      "authorship_tag": "ABX9TyMRbMQipTlZdrTtRxv5Ew+D",
      "include_colab_link": true
    },
    "kernelspec": {
      "name": "python3",
      "display_name": "Python 3"
    },
    "language_info": {
      "name": "python"
    }
  },
  "cells": [
    {
      "cell_type": "markdown",
      "metadata": {
        "id": "view-in-github",
        "colab_type": "text"
      },
      "source": [
        "<a href=\"https://colab.research.google.com/github/jscully5651/ProgrammingAssignment2/blob/master/GB881_Assignment_1_Scully_J.ipynb\" target=\"_parent\"><img src=\"https://colab.research.google.com/assets/colab-badge.svg\" alt=\"Open In Colab\"/></a>"
      ]
    },
    {
      "cell_type": "code",
      "execution_count": 14,
      "metadata": {
        "id": "itzb7bs_pBqj"
      },
      "outputs": [],
      "source": []
    },
    {
      "cell_type": "markdown",
      "source": [
        "#GB881 Assignment 1\n",
        "For this assignment we will be working as an analyst in the HR department of a tech company. Six questions will be answered using python methods, control loops, if statements and functions.\n"
      ],
      "metadata": {
        "id": "dYI7NzpCu2uf"
      }
    },
    {
      "cell_type": "markdown",
      "source": [
        "#Question 1\n",
        "The company name is changing from Z-Tech to Y-Tech and will need to be updated on all job postings. Create and test an approach for changing the name using the folling test string:\n",
        "\n",
        "\"Z-Tech is a fast-growing company! Z-Tech provides competitive bonuses to new employees.\"\n",
        "\n",
        "Once completed use the python len function to find the number of characters in the test string.\n"
      ],
      "metadata": {
        "id": "c27oYcnhGJUr"
      }
    },
    {
      "cell_type": "code",
      "source": [
        "# Test string replacement for company name change from Z-Tech to Y-Tech using the following test string\n",
        "x = \"Z-Tech is a fast-growing company! Z-Tech provides competitive bonuses to new employees.\"\n",
        "\n",
        "# What are the number of occurrences of Z-Tech in the string\n",
        "name_occurrence = x.count(\"Z-Tech\")\n",
        "# print(\"The number of times Z-Tech occurs in the test string:\", name_occurrence)\n",
        "\n",
        "# Replace with Y-Tech\n",
        "y = x.replace(\"Z-Tech\", \"Y-Tech\")\n",
        "if name_occurrence == y.count(\"Y-Tech\"):\n",
        "    print(\"Replacement successful, there were \", name_occurrence, \" occurrences of Z-Tech replaced in the test string:\", y)\n",
        "else:\n",
        "    print(\"ERROR: Not all occurrences of Z-Tech were replaced\")\n",
        "\n",
        "# Determine the number of characters in the test string x.\n",
        "print(\"\\nThe length of the string x is: \", len(x))"
      ],
      "metadata": {
        "colab": {
          "base_uri": "https://localhost:8080/"
        },
        "id": "byMEny5RHfi1",
        "outputId": "f400b764-d805-4c56-8864-26dcee142aef"
      },
      "execution_count": 15,
      "outputs": [
        {
          "output_type": "stream",
          "name": "stdout",
          "text": [
            "Replacement successful, there were  2  occurrences of Z-Tech replaced in the test string: Y-Tech is a fast-growing company! Y-Tech provides competitive bonuses to new employees.\n",
            "\n",
            "The length of the string x is:  87\n"
          ]
        }
      ]
    },
    {
      "cell_type": "markdown",
      "source": [
        "#Question 2\n",
        "Use the type function to display the data type for the test string variable x used in question 1."
      ],
      "metadata": {
        "id": "uO_6_0QnIV2C"
      }
    },
    {
      "cell_type": "code",
      "source": [
        "# What type is variable string x\n",
        "print(\"The variable type for x is: \", type(x))"
      ],
      "metadata": {
        "colab": {
          "base_uri": "https://localhost:8080/"
        },
        "id": "zpqfVTvgJBJ2",
        "outputId": "20c2c1c9-0c7a-4c90-921b-e8f4bad06cf6"
      },
      "execution_count": 16,
      "outputs": [
        {
          "output_type": "stream",
          "name": "stdout",
          "text": [
            "The variable type for x is:  <class 'str'>\n"
          ]
        }
      ]
    },
    {
      "cell_type": "markdown",
      "source": [
        "#Question 3\n",
        "In our role as HR Analyst, the amount of overtime paid to employees needs to be calculated from employee time cards.  Overtime will be paid using the following paramters:\n",
        "\n",
        "*   No overtime will be paid if the number of hours on the time card is less than or equal to 40 hours for the week.\n",
        "*   Moderate overtime is considered greater than 40 hours, but less than or equal to 60 hour per week.  Those overtime hours will be paid at 1.5 times the employees base rate.\n",
        "*   Significant overtime is considered greater than 60 hours per week.  In this case, consult the manger on pay.\n",
        "\n",
        "The question to be answered will be the number of employees who worked moderate overtime.  This will be done by creating a python list that contains the time cards for each employee and then looping through that list and determining which of the defined (see above) groups they employee belongs to.\n",
        "\n",
        "\n",
        "\n"
      ],
      "metadata": {
        "id": "DX-aKm8TJK2d"
      }
    },
    {
      "cell_type": "code",
      "source": [
        "# In this section we will compute the amount of overtime to be paid for employees who worked beyond 40 hrs per week.\n",
        "# Here is how overtime will be calculated:\n",
        "# Employee hours are less than or equal to 40.  No overtime paid.\n",
        "# Employee hours are greater than 40 but less than or equal to 60.  This is classed as moderate overtime and hours over 40 are paid at 150% of hourly base wage.\n",
        "# Employee worked over 60 hours.  This is a significant amount of time and the manger should be consulted prior to payment.\n",
        "\n",
        "# weekly time card data\n",
        "time_cards = [37, 43, 55, 40, 62]\n",
        "\n",
        "# Process the weekly time using the standards defined above.  Print a statement showing which catagory the employee is in.\n",
        "moderate_count = 0  # used to keep track of the number of employees working moderate overtime.\n",
        "for hours in time_cards:\n",
        "    if hours <= 40:\n",
        "        print(\"No overtime. Keep pay rate constant.\")\n",
        "    elif 40 < hours <= 60:\n",
        "        print(\"Moderate overtime. Increase pay rate beyond 40 hours by 50%.\")\n",
        "        moderate_count += 1\n",
        "    elif hours > 60:\n",
        "        print(\"Significant overtime.  Consult with manager on pay.\")\n",
        "    else:\n",
        "        # The program should never get here\n",
        "        print(\"There is an error in the time card processing\")\n",
        "\n",
        "# How many employees were in the Moderate Overtime Category.\n",
        "print(\"\\nThe amount of employees working moderate overtime is: \", moderate_count)"
      ],
      "metadata": {
        "colab": {
          "base_uri": "https://localhost:8080/"
        },
        "id": "dQ2bjX45Mqgm",
        "outputId": "37bf625b-3a5e-40bd-d38f-c1f8e1bcbbf3"
      },
      "execution_count": 17,
      "outputs": [
        {
          "output_type": "stream",
          "name": "stdout",
          "text": [
            "No overtime. Keep pay rate constant.\n",
            "Moderate overtime. Increase pay rate beyond 40 hours by 50%.\n",
            "Moderate overtime. Increase pay rate beyond 40 hours by 50%.\n",
            "No overtime. Keep pay rate constant.\n",
            "Significant overtime.  Consult with manager on pay.\n",
            "\n",
            "The amount of employees working moderate overtime is:  2\n"
          ]
        }
      ]
    },
    {
      "cell_type": "markdown",
      "source": [
        "# Questions 4 through 6\n",
        "These questions will deal with department turnover rate.  Department turnover rate is a key metric for HR departments due to the cost of replacing an employee.  The benchmark for a healthy department is 10%.\n",
        "\n",
        "\n",
        "The turnover rate is calculated over a specified time and is the following ratio:\n",
        "(Number of employees whoe departed the company over the specified time period)/(Total number of employees assigned for that department)\n",
        "\n",
        "The raito will be communicated in percentage format and rounded to two decimal places.\n",
        "\n",
        "\n",
        "For our scenario there are three departments and each department's turnover rate will be calculated as an answer to the question.  The python code will utilize a function to calculate the turnover rate for each department."
      ],
      "metadata": {
        "id": "wRuw4Tb5N0jy"
      }
    },
    {
      "cell_type": "code",
      "source": [
        "# In this section the turnover rate per department will be calculated and is described in the function below\n",
        "\n",
        "'''This function calculates the turnover rate for different departments in the company.  It take the number of\n",
        "departed employees and the total number of employees as parameters for the function.\n",
        "It returns the turnover rate percentage to two decimal places.  The turnover rate is calculated using the following formula:\n",
        "   (departed_employees / total_employees) * 100\n",
        "'''\n",
        "\n",
        "\n",
        "def turnover_rate(departed_employees, total_employees):\n",
        "    # return the percentage to 2 places.\n",
        "    return round((departed_employees / total_employees) * 100, 2)\n",
        "\n",
        "\n",
        "# create a dictionary with the key being the department name and the values a tuple with the form of (departed_employees, total_employees)\n",
        "company = {\n",
        "    \"department one\": (17, 256),\n",
        "    \"department two\": (65, 531),\n",
        "    \"department three\": (21, 159)\n",
        "}\n",
        "\n",
        "# Process the dictionary to get the department and employee turnover data\n",
        "for department, turnover in company.items():\n",
        "    # Obtain the turnover rate by calling turnover_rate function and print it for each department\n",
        "    print(department, \"turnover rate is\", turnover_rate(turnover[0], turnover[1]))"
      ],
      "metadata": {
        "colab": {
          "base_uri": "https://localhost:8080/"
        },
        "id": "8dStpEtwRTaj",
        "outputId": "2db2bf19-9e89-466d-98b8-2808457c442d"
      },
      "execution_count": 18,
      "outputs": [
        {
          "output_type": "stream",
          "name": "stdout",
          "text": [
            "department one turnover rate is 6.64\n",
            "department two turnover rate is 12.24\n",
            "department three turnover rate is 13.21\n"
          ]
        }
      ]
    },
    {
      "cell_type": "markdown",
      "source": [],
      "metadata": {
        "id": "SbpKjJq5Mih7"
      }
    }
  ]
}